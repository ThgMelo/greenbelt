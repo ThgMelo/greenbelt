{
 "cells": [
  {
   "cell_type": "markdown",
   "id": "250dea56",
   "metadata": {},
   "source": [
    "# Clínica\n",
    "Uma clínica que realiza atendimento para pacientes de duas especialidades médicas (dermatologia e alergologia) deseja avaliar a satisfação de seus usuários. Para isso, eles decidem coletar um indicador que chamaram de índice de satisfação. Esse índice é coletado através de um formulário de 10 perguntas que, ao final, é resumido em uma nota de 0 a 10 para a \n",
    "satisfação. Para coletar os dados, eles aplicam esses questionários em 10 pacientes por dia, durante 20 dias. Também é anotada a especialidade frequentada por cada paciente.\n",
    "\n",
    "1.  Que tipo de variável é o índice de satisfação? É uma variável de contagem, classificação ou uma variável contínua?\n",
    "2. Avalie como está a distribuição das notas durante os 20 dias como um todo. Lembre-se de escolher o tipo correto de gráfico de frequência para esta variável. Ainda não vamos fazer este gráfico estratificado por especialidade, vamos entender como se comporta a satisfação para toda a clínica primeiro.\n",
    "3. Ao longo dos 20 dias, é possível ver alguma diferença na nota para cada especialidade? Estratifique sua análise de dados e compare as frequências (use a coluna “Especialidades” para agrupar os dados na hora de traçar o gráfico).\n",
    "4. O que isso indica sobre a satisfação? O que no processo poderia gerar esse comportamento?\n",
    "5. Agora, faça uma análise temporal do índice de satisfação. Supondo que os pacientes tivessem todos sido coletados em ordem cronológica, desenvolva um gráfico de tendência da satisfação por paciente. A análise pode ser feita para todo o conjunto de dados ou estratificado (com grupos) por dermatologia e alergologia. Avalie se há alguma tendência no gráfico.\n",
    "6. Se uma mudança foi feita a partir do décimo dia, o que podemos dizer dela?\n",
    "7. Agora, vamos tentar olhar essa satisfação por dia. Para isso, é necessário “trabalhar a base”.\n",
    "8. Aqui, vamos ter que fazer uma média do índice de satisfação a cada dia e, em seguida, traçar essa nova base.\n",
    "9. O que podemos dizer da satisfação por dia?\n",
    "10. Para finalizar, diga se a amostra estava equilibrada entre as especialidades. Será que houve mais pacientes de dermatologia do que de alergologia na amostra? Faça o gráfico de frequência apropriado para dizer."
   ]
  },
  {
   "cell_type": "markdown",
   "id": "609b750b",
   "metadata": {},
   "source": [
    "## Importando a base de Dados"
   ]
  },
  {
   "cell_type": "code",
   "execution_count": 1,
   "id": "8ffc430d",
   "metadata": {},
   "outputs": [],
   "source": [
    "import pandas as pd"
   ]
  },
  {
   "cell_type": "code",
   "execution_count": 2,
   "id": "072f55d3",
   "metadata": {},
   "outputs": [
    {
     "data": {
      "text/html": [
       "<div>\n",
       "<style scoped>\n",
       "    .dataframe tbody tr th:only-of-type {\n",
       "        vertical-align: middle;\n",
       "    }\n",
       "\n",
       "    .dataframe tbody tr th {\n",
       "        vertical-align: top;\n",
       "    }\n",
       "\n",
       "    .dataframe thead th {\n",
       "        text-align: right;\n",
       "    }\n",
       "</style>\n",
       "<table border=\"1\" class=\"dataframe\">\n",
       "  <thead>\n",
       "    <tr style=\"text-align: right;\">\n",
       "      <th></th>\n",
       "      <th>Paciente</th>\n",
       "      <th>Dia</th>\n",
       "      <th>Especialidade</th>\n",
       "      <th>Satisfação</th>\n",
       "    </tr>\n",
       "  </thead>\n",
       "  <tbody>\n",
       "    <tr>\n",
       "      <th>0</th>\n",
       "      <td>1</td>\n",
       "      <td>1</td>\n",
       "      <td>D</td>\n",
       "      <td>7,49</td>\n",
       "    </tr>\n",
       "    <tr>\n",
       "      <th>1</th>\n",
       "      <td>2</td>\n",
       "      <td>1</td>\n",
       "      <td>D</td>\n",
       "      <td>7,77</td>\n",
       "    </tr>\n",
       "    <tr>\n",
       "      <th>2</th>\n",
       "      <td>3</td>\n",
       "      <td>1</td>\n",
       "      <td>D</td>\n",
       "      <td>7,82</td>\n",
       "    </tr>\n",
       "    <tr>\n",
       "      <th>3</th>\n",
       "      <td>4</td>\n",
       "      <td>1</td>\n",
       "      <td>A</td>\n",
       "      <td>8,18</td>\n",
       "    </tr>\n",
       "    <tr>\n",
       "      <th>4</th>\n",
       "      <td>5</td>\n",
       "      <td>1</td>\n",
       "      <td>D</td>\n",
       "      <td>8,14</td>\n",
       "    </tr>\n",
       "    <tr>\n",
       "      <th>5</th>\n",
       "      <td>6</td>\n",
       "      <td>1</td>\n",
       "      <td>A</td>\n",
       "      <td>7,98</td>\n",
       "    </tr>\n",
       "    <tr>\n",
       "      <th>6</th>\n",
       "      <td>7</td>\n",
       "      <td>1</td>\n",
       "      <td>A</td>\n",
       "      <td>7,70</td>\n",
       "    </tr>\n",
       "    <tr>\n",
       "      <th>7</th>\n",
       "      <td>8</td>\n",
       "      <td>1</td>\n",
       "      <td>A</td>\n",
       "      <td>7,79</td>\n",
       "    </tr>\n",
       "    <tr>\n",
       "      <th>8</th>\n",
       "      <td>9</td>\n",
       "      <td>1</td>\n",
       "      <td>D</td>\n",
       "      <td>8,30</td>\n",
       "    </tr>\n",
       "    <tr>\n",
       "      <th>9</th>\n",
       "      <td>10</td>\n",
       "      <td>1</td>\n",
       "      <td>D</td>\n",
       "      <td>7,71</td>\n",
       "    </tr>\n",
       "  </tbody>\n",
       "</table>\n",
       "</div>"
      ],
      "text/plain": [
       "   Paciente  Dia Especialidade Satisfação\n",
       "0         1    1             D       7,49\n",
       "1         2    1             D       7,77\n",
       "2         3    1             D       7,82\n",
       "3         4    1             A       8,18\n",
       "4         5    1             D       8,14\n",
       "5         6    1             A       7,98\n",
       "6         7    1             A       7,70\n",
       "7         8    1             A       7,79\n",
       "8         9    1             D       8,30\n",
       "9        10    1             D       7,71"
      ]
     },
     "execution_count": 2,
     "metadata": {},
     "output_type": "execute_result"
    }
   ],
   "source": [
    "dados = pd.read_csv('clinica.csv', encoding = 'ISO-8859-1', sep = ';')\n",
    "dados.head(10)"
   ]
  },
  {
   "cell_type": "code",
   "execution_count": 3,
   "id": "da6c1b23",
   "metadata": {},
   "outputs": [
    {
     "data": {
      "text/plain": [
       "Paciente          int64\n",
       "Dia               int64\n",
       "Especialidade    object\n",
       "Satisfação       object\n",
       "dtype: object"
      ]
     },
     "execution_count": 3,
     "metadata": {},
     "output_type": "execute_result"
    }
   ],
   "source": [
    "dados.dtypes"
   ]
  },
  {
   "cell_type": "code",
   "execution_count": 4,
   "id": "9685d2d5",
   "metadata": {},
   "outputs": [],
   "source": [
    "dados['Satisfação'] = dados['Satisfação'].str.replace(\",\", \".\").astype(float)"
   ]
  },
  {
   "cell_type": "code",
   "execution_count": 5,
   "id": "92be3f9e",
   "metadata": {},
   "outputs": [
    {
     "data": {
      "text/plain": [
       "Paciente           int64\n",
       "Dia                int64\n",
       "Especialidade     object\n",
       "Satisfação       float64\n",
       "dtype: object"
      ]
     },
     "execution_count": 5,
     "metadata": {},
     "output_type": "execute_result"
    }
   ],
   "source": [
    "dados.dtypes"
   ]
  },
  {
   "cell_type": "code",
   "execution_count": 6,
   "id": "fa7f0f31",
   "metadata": {},
   "outputs": [
    {
     "data": {
      "text/plain": [
       "(200, 4)"
      ]
     },
     "execution_count": 6,
     "metadata": {},
     "output_type": "execute_result"
    }
   ],
   "source": [
    "dados.shape"
   ]
  },
  {
   "cell_type": "markdown",
   "id": "d055b469",
   "metadata": {},
   "source": [
    "## Resolução Item 2\n",
    "Avalie como está a distribuição das notas durante os 20 dias como um todo. Lembre-se de escolher o tipo correto de gráfico de frequência para esta variável. Ainda não vamos fazer este gráfico estratificado por especialidade, vamos entender como se comporta a satisfação para toda a clínica primeiro."
   ]
  },
  {
   "cell_type": "code",
   "execution_count": 7,
   "id": "b3cf13cc",
   "metadata": {},
   "outputs": [],
   "source": [
    "import seaborn as sns"
   ]
  },
  {
   "cell_type": "code",
   "execution_count": 8,
   "id": "f638fab7",
   "metadata": {},
   "outputs": [
    {
     "data": {
      "text/plain": [
       "<Axes: xlabel='Satisfação', ylabel='Count'>"
      ]
     },
     "execution_count": 8,
     "metadata": {},
     "output_type": "execute_result"
    },
    {
     "data": {
      "image/png": "[encoded data removed]",
      "text/plain": [
       "<Figure size 640x480 with 1 Axes>"
      ]
     },
     "metadata": {},
     "output_type": "display_data"
    }
   ],
   "source": [
    "sns.histplot(dados['Satisfação'], bins = 22, kde=True)"
   ]
  },
  {
   "cell_type": "markdown",
   "id": "445c3a6d",
   "metadata": {},
   "source": [
    "## Resolução Item 3\n",
    "Ao longo dos 20 dias, é possível ver alguma diferença na nota para cada especialidade? Estratifique sua análise de dados e compare as frequências (use a coluna “Especialidades” para agrupar os dados na hora de traçar o gráfico)."
   ]
  },
  {
   "cell_type": "code",
   "execution_count": 35,
   "id": "35b53421",
   "metadata": {},
   "outputs": [
    {
     "data": {
      "text/html": [
       "<div>\n",
       "<style scoped>\n",
       "    .dataframe tbody tr th:only-of-type {\n",
       "        vertical-align: middle;\n",
       "    }\n",
       "\n",
       "    .dataframe tbody tr th {\n",
       "        vertical-align: top;\n",
       "    }\n",
       "\n",
       "    .dataframe thead th {\n",
       "        text-align: right;\n",
       "    }\n",
       "</style>\n",
       "<table border=\"1\" class=\"dataframe\">\n",
       "  <thead>\n",
       "    <tr style=\"text-align: right;\">\n",
       "      <th></th>\n",
       "      <th>Especialidade</th>\n",
       "      <th>variavel</th>\n",
       "      <th>valor</th>\n",
       "    </tr>\n",
       "  </thead>\n",
       "  <tbody>\n",
       "    <tr>\n",
       "      <th>0</th>\n",
       "      <td>D</td>\n",
       "      <td>Satisfação</td>\n",
       "      <td>7.49</td>\n",
       "    </tr>\n",
       "    <tr>\n",
       "      <th>1</th>\n",
       "      <td>D</td>\n",
       "      <td>Satisfação</td>\n",
       "      <td>7.77</td>\n",
       "    </tr>\n",
       "    <tr>\n",
       "      <th>2</th>\n",
       "      <td>D</td>\n",
       "      <td>Satisfação</td>\n",
       "      <td>7.82</td>\n",
       "    </tr>\n",
       "    <tr>\n",
       "      <th>3</th>\n",
       "      <td>A</td>\n",
       "      <td>Satisfação</td>\n",
       "      <td>8.18</td>\n",
       "    </tr>\n",
       "    <tr>\n",
       "      <th>4</th>\n",
       "      <td>D</td>\n",
       "      <td>Satisfação</td>\n",
       "      <td>8.14</td>\n",
       "    </tr>\n",
       "    <tr>\n",
       "      <th>...</th>\n",
       "      <td>...</td>\n",
       "      <td>...</td>\n",
       "      <td>...</td>\n",
       "    </tr>\n",
       "    <tr>\n",
       "      <th>195</th>\n",
       "      <td>A</td>\n",
       "      <td>Satisfação</td>\n",
       "      <td>8.96</td>\n",
       "    </tr>\n",
       "    <tr>\n",
       "      <th>196</th>\n",
       "      <td>A</td>\n",
       "      <td>Satisfação</td>\n",
       "      <td>8.95</td>\n",
       "    </tr>\n",
       "    <tr>\n",
       "      <th>197</th>\n",
       "      <td>D</td>\n",
       "      <td>Satisfação</td>\n",
       "      <td>9.16</td>\n",
       "    </tr>\n",
       "    <tr>\n",
       "      <th>198</th>\n",
       "      <td>D</td>\n",
       "      <td>Satisfação</td>\n",
       "      <td>8.93</td>\n",
       "    </tr>\n",
       "    <tr>\n",
       "      <th>199</th>\n",
       "      <td>A</td>\n",
       "      <td>Satisfação</td>\n",
       "      <td>9.08</td>\n",
       "    </tr>\n",
       "  </tbody>\n",
       "</table>\n",
       "<p>200 rows × 3 columns</p>\n",
       "</div>"
      ],
      "text/plain": [
       "    Especialidade    variavel  valor\n",
       "0               D  Satisfação   7.49\n",
       "1               D  Satisfação   7.77\n",
       "2               D  Satisfação   7.82\n",
       "3               A  Satisfação   8.18\n",
       "4               D  Satisfação   8.14\n",
       "..            ...         ...    ...\n",
       "195             A  Satisfação   8.96\n",
       "196             A  Satisfação   8.95\n",
       "197             D  Satisfação   9.16\n",
       "198             D  Satisfação   8.93\n",
       "199             A  Satisfação   9.08\n",
       "\n",
       "[200 rows x 3 columns]"
      ]
     },
     "execution_count": 35,
     "metadata": {},
     "output_type": "execute_result"
    }
   ],
   "source": [
    "# Transformar os dados em formato longo\n",
    "dados_melt = pd.melt(dados, value_vars=['Satisfação'], id_vars=['Especialidade'], var_name='variavel', value_name='valor')\n",
    "dados_melt"
   ]
  },
  {
   "cell_type": "code",
   "execution_count": 51,
   "id": "eff24374",
   "metadata": {},
   "outputs": [
    {
     "data": {
      "text/plain": [
       "<Axes: xlabel='valor', ylabel='Count'>"
      ]
     },
     "execution_count": 51,
     "metadata": {},
     "output_type": "execute_result"
    },
    {
     "data": {
      "image/png": "[encoded data removed]",
      "text/plain": [
       "<Figure size 640x480 with 1 Axes>"
      ]
     },
     "metadata": {},
     "output_type": "display_data"
    }
   ],
   "source": [
    "sns.histplot(data=dados_melt, x=\"valor\", hue=\"Especialidade\", bins = 22, multiple=\"stack\")"
   ]
  },
  {
   "cell_type": "code",
   "execution_count": null,
   "id": "9e607a95",
   "metadata": {},
   "outputs": [],
   "source": []
  }
 ],
 "metadata": {
  "kernelspec": {
   "display_name": "Python 3 (ipykernel)",
   "language": "python",
   "name": "python3"
  },
  "language_info": {
   "codemirror_mode": {
    "name": "ipython",
    "version": 3
   },
   "file_extension": ".py",
   "mimetype": "text/x-python",
   "name": "python",
   "nbconvert_exporter": "python",
   "pygments_lexer": "ipython3",
   "version": "3.11.4"
  }
 },
 "nbformat": 4,
 "nbformat_minor": 5
}
