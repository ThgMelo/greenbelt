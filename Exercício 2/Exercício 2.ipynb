{
 "cells": [
  {
   "cell_type": "markdown",
   "id": "250dea56",
   "metadata": {},
   "source": [
    "# Clínica\n",
    "Uma clínica que realiza atendimento para pacientes de duas especialidades médicas (dermatologia e alergologia) deseja avaliar a satisfação de seus usuários. Para isso, eles decidem coletar um indicador que chamaram de índice de satisfação. Esse índice é coletado através de um formulário de 10 perguntas que, ao final, é resumido em uma nota de 0 a 10 para a \n",
    "satisfação. Para coletar os dados, eles aplicam esses questionários em 10 pacientes por dia, durante 20 dias. Também é anotada a especialidade frequentada por cada paciente.\n",
    "\n",
    "1.  Que tipo de variável é o índice de satisfação? É uma variável de contagem, classificação ou uma variável contínua?\n",
    "2. Avalie como está a distribuição das notas durante os 20 dias como um todo. Lembre-se de escolher o tipo correto de gráfico de frequência para esta variável. Ainda não vamos fazer este gráfico estratificado por especialidade, vamos entender como se comporta a satisfação para toda a clínica primeiro.\n",
    "3. Ao longo dos 20 dias, é possível ver alguma diferença na nota para cada especialidade? Estratifique sua análise de dados e compare as frequências (use a coluna “Especialidades” para agrupar os dados na hora de traçar o gráfico).\n",
    "4. O que isso indica sobre a satisfação? O que no processo poderia gerar esse comportamento?\n",
    "5. Agora, faça uma análise temporal do índice de satisfação. Supondo que os pacientes tivessem todos sido coletados em ordem cronológica, desenvolva um gráfico de tendência da satisfação por paciente. A análise pode ser feita para todo o conjunto de dados ou estratificado (com grupos) por dermatologia e alergologia. Avalie se há alguma tendência no gráfico.\n",
    "6. Se uma mudança foi feita a partir do décimo dia, o que podemos dizer dela?\n",
    "7. Agora, vamos tentar olhar essa satisfação por dia. Para isso, é necessário “trabalhar a base”.\n",
    "8. Aqui, vamos ter que fazer uma média do índice de satisfação a cada dia e, em seguida, traçar essa nova base.\n",
    "9. O que podemos dizer da satisfação por dia?\n",
    "10. Para finalizar, diga se a amostra estava equilibrada entre as especialidades. Será que houve mais pacientes de dermatologia do que de alergologia na amostra? Faça o gráfico de frequência apropriado para dizer."
   ]
  },
  {
   "cell_type": "markdown",
   "id": "609b750b",
   "metadata": {},
   "source": [
    "## Importando a base de Dados"
   ]
  },
  {
   "cell_type": "code",
   "execution_count": 138,
   "id": "8ffc430d",
   "metadata": {},
   "outputs": [],
   "source": [
    "import pandas as pd"
   ]
  },
  {
   "cell_type": "code",
   "execution_count": 114,
   "id": "072f55d3",
   "metadata": {},
   "outputs": [
    {
     "data": {
      "text/html": [
       "<div>\n",
       "<style scoped>\n",
       "    .dataframe tbody tr th:only-of-type {\n",
       "        vertical-align: middle;\n",
       "    }\n",
       "\n",
       "    .dataframe tbody tr th {\n",
       "        vertical-align: top;\n",
       "    }\n",
       "\n",
       "    .dataframe thead th {\n",
       "        text-align: right;\n",
       "    }\n",
       "</style>\n",
       "<table border=\"1\" class=\"dataframe\">\n",
       "  <thead>\n",
       "    <tr style=\"text-align: right;\">\n",
       "      <th></th>\n",
       "      <th>Paciente</th>\n",
       "      <th>Dia</th>\n",
       "      <th>Especialidade</th>\n",
       "      <th>Satisfação</th>\n",
       "    </tr>\n",
       "  </thead>\n",
       "  <tbody>\n",
       "    <tr>\n",
       "      <th>0</th>\n",
       "      <td>1</td>\n",
       "      <td>1</td>\n",
       "      <td>D</td>\n",
       "      <td>7,49</td>\n",
       "    </tr>\n",
       "    <tr>\n",
       "      <th>1</th>\n",
       "      <td>2</td>\n",
       "      <td>1</td>\n",
       "      <td>D</td>\n",
       "      <td>7,77</td>\n",
       "    </tr>\n",
       "    <tr>\n",
       "      <th>2</th>\n",
       "      <td>3</td>\n",
       "      <td>1</td>\n",
       "      <td>D</td>\n",
       "      <td>7,82</td>\n",
       "    </tr>\n",
       "    <tr>\n",
       "      <th>3</th>\n",
       "      <td>4</td>\n",
       "      <td>1</td>\n",
       "      <td>A</td>\n",
       "      <td>8,18</td>\n",
       "    </tr>\n",
       "    <tr>\n",
       "      <th>4</th>\n",
       "      <td>5</td>\n",
       "      <td>1</td>\n",
       "      <td>D</td>\n",
       "      <td>8,14</td>\n",
       "    </tr>\n",
       "    <tr>\n",
       "      <th>5</th>\n",
       "      <td>6</td>\n",
       "      <td>1</td>\n",
       "      <td>A</td>\n",
       "      <td>7,98</td>\n",
       "    </tr>\n",
       "    <tr>\n",
       "      <th>6</th>\n",
       "      <td>7</td>\n",
       "      <td>1</td>\n",
       "      <td>A</td>\n",
       "      <td>7,70</td>\n",
       "    </tr>\n",
       "    <tr>\n",
       "      <th>7</th>\n",
       "      <td>8</td>\n",
       "      <td>1</td>\n",
       "      <td>A</td>\n",
       "      <td>7,79</td>\n",
       "    </tr>\n",
       "    <tr>\n",
       "      <th>8</th>\n",
       "      <td>9</td>\n",
       "      <td>1</td>\n",
       "      <td>D</td>\n",
       "      <td>8,30</td>\n",
       "    </tr>\n",
       "    <tr>\n",
       "      <th>9</th>\n",
       "      <td>10</td>\n",
       "      <td>1</td>\n",
       "      <td>D</td>\n",
       "      <td>7,71</td>\n",
       "    </tr>\n",
       "  </tbody>\n",
       "</table>\n",
       "</div>"
      ],
      "text/plain": [
       "   Paciente  Dia Especialidade Satisfação\n",
       "0         1    1             D       7,49\n",
       "1         2    1             D       7,77\n",
       "2         3    1             D       7,82\n",
       "3         4    1             A       8,18\n",
       "4         5    1             D       8,14\n",
       "5         6    1             A       7,98\n",
       "6         7    1             A       7,70\n",
       "7         8    1             A       7,79\n",
       "8         9    1             D       8,30\n",
       "9        10    1             D       7,71"
      ]
     },
     "execution_count": 114,
     "metadata": {},
     "output_type": "execute_result"
    }
   ],
   "source": [
    "dados = pd.read_csv('clinica.csv', encoding = 'ISO-8859-1', sep = ';')\n",
    "dados.head(10)"
   ]
  },
  {
   "cell_type": "code",
   "execution_count": 115,
   "id": "da6c1b23",
   "metadata": {},
   "outputs": [
    {
     "data": {
      "text/plain": [
       "Paciente          int64\n",
       "Dia               int64\n",
       "Especialidade    object\n",
       "Satisfação       object\n",
       "dtype: object"
      ]
     },
     "execution_count": 115,
     "metadata": {},
     "output_type": "execute_result"
    }
   ],
   "source": [
    "dados.dtypes"
   ]
  },
  {
   "cell_type": "code",
   "execution_count": 116,
   "id": "9685d2d5",
   "metadata": {},
   "outputs": [],
   "source": [
    "dados['Satisfação'] = dados['Satisfação'].str.replace(\",\", \".\").astype(float)"
   ]
  },
  {
   "cell_type": "code",
   "execution_count": 117,
   "id": "92be3f9e",
   "metadata": {},
   "outputs": [
    {
     "data": {
      "text/plain": [
       "Paciente           int64\n",
       "Dia                int64\n",
       "Especialidade     object\n",
       "Satisfação       float64\n",
       "dtype: object"
      ]
     },
     "execution_count": 117,
     "metadata": {},
     "output_type": "execute_result"
    }
   ],
   "source": [
    "dados.dtypes"
   ]
  },
  {
   "cell_type": "code",
   "execution_count": 118,
   "id": "fa7f0f31",
   "metadata": {},
   "outputs": [
    {
     "data": {
      "text/plain": [
       "(200, 4)"
      ]
     },
     "execution_count": 118,
     "metadata": {},
     "output_type": "execute_result"
    }
   ],
   "source": [
    "dados.shape"
   ]
  },
  {
   "cell_type": "markdown",
   "id": "d055b469",
   "metadata": {},
   "source": [
    "## Resolução Item 2\n",
    "Avalie como está a distribuição das notas durante os 20 dias como um todo. Lembre-se de escolher o tipo correto de gráfico de frequência para esta variável. Ainda não vamos fazer este gráfico estratificado por especialidade, vamos entender como se comporta a satisfação para toda a clínica primeiro."
   ]
  },
  {
   "cell_type": "code",
   "execution_count": 119,
   "id": "b3cf13cc",
   "metadata": {},
   "outputs": [],
   "source": [
    "import seaborn as sns"
   ]
  },
  {
   "cell_type": "code",
   "execution_count": 120,
   "id": "f638fab7",
   "metadata": {},
   "outputs": [
    {
     "data": {
      "text/plain": [
       "<Axes: xlabel='Satisfação', ylabel='Count'>"
      ]
     },
     "execution_count": 120,
     "metadata": {},
     "output_type": "execute_result"
    },
    {
     "data": {
      "image/png": "[encoded data removed]",
      "text/plain": [
       "<Figure size 640x480 with 1 Axes>"
      ]
     },
     "metadata": {},
     "output_type": "display_data"
    }
   ],
   "source": [
    "sns.histplot(dados['Satisfação'], bins = 22, kde=True)"
   ]
  },
  {
   "cell_type": "markdown",
   "id": "445c3a6d",
   "metadata": {},
   "source": [
    "## Resolução Item 3\n",
    "Ao longo dos 20 dias, é possível ver alguma diferença na nota para cada especialidade? Estratifique sua análise de dados e compare as frequências (use a coluna “Especialidades” para agrupar os dados na hora de traçar o gráfico)."
   ]
  },
  {
   "cell_type": "code",
   "execution_count": 121,
   "id": "4348b196",
   "metadata": {},
   "outputs": [
    {
     "data": {
      "text/html": [
       "<div>\n",
       "<style scoped>\n",
       "    .dataframe tbody tr th:only-of-type {\n",
       "        vertical-align: middle;\n",
       "    }\n",
       "\n",
       "    .dataframe tbody tr th {\n",
       "        vertical-align: top;\n",
       "    }\n",
       "\n",
       "    .dataframe thead th {\n",
       "        text-align: right;\n",
       "    }\n",
       "</style>\n",
       "<table border=\"1\" class=\"dataframe\">\n",
       "  <thead>\n",
       "    <tr style=\"text-align: right;\">\n",
       "      <th></th>\n",
       "      <th>Especialidade</th>\n",
       "      <th>variavel</th>\n",
       "      <th>valor</th>\n",
       "    </tr>\n",
       "  </thead>\n",
       "  <tbody>\n",
       "    <tr>\n",
       "      <th>0</th>\n",
       "      <td>D</td>\n",
       "      <td>Satisfação</td>\n",
       "      <td>7.49</td>\n",
       "    </tr>\n",
       "    <tr>\n",
       "      <th>1</th>\n",
       "      <td>D</td>\n",
       "      <td>Satisfação</td>\n",
       "      <td>7.77</td>\n",
       "    </tr>\n",
       "    <tr>\n",
       "      <th>2</th>\n",
       "      <td>D</td>\n",
       "      <td>Satisfação</td>\n",
       "      <td>7.82</td>\n",
       "    </tr>\n",
       "    <tr>\n",
       "      <th>3</th>\n",
       "      <td>A</td>\n",
       "      <td>Satisfação</td>\n",
       "      <td>8.18</td>\n",
       "    </tr>\n",
       "    <tr>\n",
       "      <th>4</th>\n",
       "      <td>D</td>\n",
       "      <td>Satisfação</td>\n",
       "      <td>8.14</td>\n",
       "    </tr>\n",
       "    <tr>\n",
       "      <th>...</th>\n",
       "      <td>...</td>\n",
       "      <td>...</td>\n",
       "      <td>...</td>\n",
       "    </tr>\n",
       "    <tr>\n",
       "      <th>195</th>\n",
       "      <td>A</td>\n",
       "      <td>Satisfação</td>\n",
       "      <td>8.96</td>\n",
       "    </tr>\n",
       "    <tr>\n",
       "      <th>196</th>\n",
       "      <td>A</td>\n",
       "      <td>Satisfação</td>\n",
       "      <td>8.95</td>\n",
       "    </tr>\n",
       "    <tr>\n",
       "      <th>197</th>\n",
       "      <td>D</td>\n",
       "      <td>Satisfação</td>\n",
       "      <td>9.16</td>\n",
       "    </tr>\n",
       "    <tr>\n",
       "      <th>198</th>\n",
       "      <td>D</td>\n",
       "      <td>Satisfação</td>\n",
       "      <td>8.93</td>\n",
       "    </tr>\n",
       "    <tr>\n",
       "      <th>199</th>\n",
       "      <td>A</td>\n",
       "      <td>Satisfação</td>\n",
       "      <td>9.08</td>\n",
       "    </tr>\n",
       "  </tbody>\n",
       "</table>\n",
       "<p>200 rows × 3 columns</p>\n",
       "</div>"
      ],
      "text/plain": [
       "    Especialidade    variavel  valor\n",
       "0               D  Satisfação   7.49\n",
       "1               D  Satisfação   7.77\n",
       "2               D  Satisfação   7.82\n",
       "3               A  Satisfação   8.18\n",
       "4               D  Satisfação   8.14\n",
       "..            ...         ...    ...\n",
       "195             A  Satisfação   8.96\n",
       "196             A  Satisfação   8.95\n",
       "197             D  Satisfação   9.16\n",
       "198             D  Satisfação   8.93\n",
       "199             A  Satisfação   9.08\n",
       "\n",
       "[200 rows x 3 columns]"
      ]
     },
     "execution_count": 121,
     "metadata": {},
     "output_type": "execute_result"
    }
   ],
   "source": [
    "# Transformar os dados em formato longo\n",
    "dados_melt = pd.melt(dados, value_vars=['Satisfação'], id_vars=['Especialidade'], var_name='variavel', value_name='valor')\n",
    "dados_melt"
   ]
  },
  {
   "cell_type": "code",
   "execution_count": 122,
   "id": "f9350002",
   "metadata": {},
   "outputs": [
    {
     "data": {
      "text/plain": [
       "<Axes: xlabel='valor', ylabel='Count'>"
      ]
     },
     "execution_count": 122,
     "metadata": {},
     "output_type": "execute_result"
    },
    {
     "data": {
      "image/png": "[encoded data removed]",
      "text/plain": [
       "<Figure size 640x480 with 1 Axes>"
      ]
     },
     "metadata": {},
     "output_type": "display_data"
    }
   ],
   "source": [
    "sns.histplot(data=dados_melt, x=\"valor\", hue=\"Especialidade\", bins = 22, multiple=\"stack\")"
   ]
  },
  {
   "cell_type": "markdown",
   "id": "2835d1a7",
   "metadata": {},
   "source": [
    "## Resolução Item 5\n",
    "Agora, faça uma análise temporal do índice de satisfação. Supondo que os pacientes tivessem todos sido coletados em ordem cronológica, desenvolva um gráfico de tendência da satisfação por paciente. A análise pode ser feita para todo o conjunto de dados ou estratificado (com grupos) por dermatologia e alergologia. Avalie se há alguma tendência no gráfico."
   ]
  },
  {
   "cell_type": "code",
   "execution_count": 123,
   "id": "bb6af1aa",
   "metadata": {},
   "outputs": [
    {
     "data": {
      "text/plain": [
       "<Axes: xlabel='Paciente', ylabel='Satisfação'>"
      ]
     },
     "execution_count": 123,
     "metadata": {},
     "output_type": "execute_result"
    },
    {
     "data": {
      "image/png": "[encoded data removed]",
      "text/plain": [
       "<Figure size 640x480 with 1 Axes>"
      ]
     },
     "metadata": {},
     "output_type": "display_data"
    }
   ],
   "source": [
    "sns.lineplot(data=dados, x=\"Paciente\", y=\"Satisfação\")"
   ]
  },
  {
   "cell_type": "code",
   "execution_count": 124,
   "id": "168f54cb",
   "metadata": {},
   "outputs": [
    {
     "data": {
      "text/plain": [
       "<Axes: xlabel='Paciente', ylabel='Satisfação'>"
      ]
     },
     "execution_count": 124,
     "metadata": {},
     "output_type": "execute_result"
    },
    {
     "data": {
      "image/png": "[encoded data removed]",
      "text/plain": [
       "<Figure size 640x480 with 1 Axes>"
      ]
     },
     "metadata": {},
     "output_type": "display_data"
    }
   ],
   "source": [
    "sns.lineplot(data=dados, x=\"Paciente\", y=\"Satisfação\", hue='Especialidade')"
   ]
  },
  {
   "cell_type": "markdown",
   "id": "20fd4ea1",
   "metadata": {},
   "source": [
    "## Resolução Item 7\n",
    "Agora, vamos tentar olhar essa satisfação por dia. Para isso, é necessário “trabalhar a base”"
   ]
  },
  {
   "cell_type": "code",
   "execution_count": 125,
   "id": "a9760809",
   "metadata": {},
   "outputs": [
    {
     "data": {
      "text/html": [
       "<div>\n",
       "<style scoped>\n",
       "    .dataframe tbody tr th:only-of-type {\n",
       "        vertical-align: middle;\n",
       "    }\n",
       "\n",
       "    .dataframe tbody tr th {\n",
       "        vertical-align: top;\n",
       "    }\n",
       "\n",
       "    .dataframe thead th {\n",
       "        text-align: right;\n",
       "    }\n",
       "</style>\n",
       "<table border=\"1\" class=\"dataframe\">\n",
       "  <thead>\n",
       "    <tr style=\"text-align: right;\">\n",
       "      <th></th>\n",
       "      <th>Paciente</th>\n",
       "      <th>Dia</th>\n",
       "      <th>Especialidade</th>\n",
       "      <th>Satisfação</th>\n",
       "    </tr>\n",
       "  </thead>\n",
       "  <tbody>\n",
       "    <tr>\n",
       "      <th>0</th>\n",
       "      <td>1</td>\n",
       "      <td>1</td>\n",
       "      <td>D</td>\n",
       "      <td>7.49</td>\n",
       "    </tr>\n",
       "    <tr>\n",
       "      <th>1</th>\n",
       "      <td>2</td>\n",
       "      <td>1</td>\n",
       "      <td>D</td>\n",
       "      <td>7.77</td>\n",
       "    </tr>\n",
       "    <tr>\n",
       "      <th>2</th>\n",
       "      <td>3</td>\n",
       "      <td>1</td>\n",
       "      <td>D</td>\n",
       "      <td>7.82</td>\n",
       "    </tr>\n",
       "    <tr>\n",
       "      <th>3</th>\n",
       "      <td>4</td>\n",
       "      <td>1</td>\n",
       "      <td>A</td>\n",
       "      <td>8.18</td>\n",
       "    </tr>\n",
       "    <tr>\n",
       "      <th>4</th>\n",
       "      <td>5</td>\n",
       "      <td>1</td>\n",
       "      <td>D</td>\n",
       "      <td>8.14</td>\n",
       "    </tr>\n",
       "  </tbody>\n",
       "</table>\n",
       "</div>"
      ],
      "text/plain": [
       "   Paciente  Dia Especialidade  Satisfação\n",
       "0         1    1             D        7.49\n",
       "1         2    1             D        7.77\n",
       "2         3    1             D        7.82\n",
       "3         4    1             A        8.18\n",
       "4         5    1             D        8.14"
      ]
     },
     "execution_count": 125,
     "metadata": {},
     "output_type": "execute_result"
    }
   ],
   "source": [
    "dados.head()"
   ]
  },
  {
   "cell_type": "code",
   "execution_count": 126,
   "id": "4a1d6c63",
   "metadata": {},
   "outputs": [
    {
     "data": {
      "text/plain": [
       "Dia\n",
       "1     7.888\n",
       "2     7.938\n",
       "3     8.063\n",
       "4     7.874\n",
       "5     7.947\n",
       "6     8.103\n",
       "7     7.955\n",
       "8     8.104\n",
       "9     7.989\n",
       "10    7.955\n",
       "11    8.998\n",
       "12    9.015\n",
       "13    8.984\n",
       "14    9.044\n",
       "15    8.990\n",
       "16    9.036\n",
       "17    9.019\n",
       "18    9.038\n",
       "19    9.006\n",
       "20    9.013\n",
       "Name: Satisfação, dtype: float64"
      ]
     },
     "execution_count": 126,
     "metadata": {},
     "output_type": "execute_result"
    }
   ],
   "source": [
    "media_satisfacao_por_dia = dados.groupby(['Dia']).mean(numeric_only=True)\n",
    "media_satisfacao_por_dia = media_satisfacao_por_dia['Satisfação']\n",
    "media_satisfacao_por_dia"
   ]
  },
  {
   "cell_type": "code",
   "execution_count": 127,
   "id": "e4d56361",
   "metadata": {},
   "outputs": [
    {
     "data": {
      "text/plain": [
       "<Axes: xlabel='Dia', ylabel='Satisfação'>"
      ]
     },
     "execution_count": 127,
     "metadata": {},
     "output_type": "execute_result"
    },
    {
     "data": {
      "image/png": "[encoded data removed]",
      "text/plain": [
       "<Figure size 640x480 with 1 Axes>"
      ]
     },
     "metadata": {},
     "output_type": "display_data"
    }
   ],
   "source": [
    "sns.lineplot(media_satisfacao_por_dia, marker='o')"
   ]
  },
  {
   "cell_type": "code",
   "execution_count": 128,
   "id": "00605c02",
   "metadata": {},
   "outputs": [
    {
     "data": {
      "text/html": [
       "<div>\n",
       "<style scoped>\n",
       "    .dataframe tbody tr th:only-of-type {\n",
       "        vertical-align: middle;\n",
       "    }\n",
       "\n",
       "    .dataframe tbody tr th {\n",
       "        vertical-align: top;\n",
       "    }\n",
       "\n",
       "    .dataframe thead th {\n",
       "        text-align: right;\n",
       "    }\n",
       "</style>\n",
       "<table border=\"1\" class=\"dataframe\">\n",
       "  <thead>\n",
       "    <tr style=\"text-align: right;\">\n",
       "      <th></th>\n",
       "      <th>Paciente</th>\n",
       "      <th>Dia</th>\n",
       "      <th>Especialidade</th>\n",
       "      <th>Satisfação</th>\n",
       "    </tr>\n",
       "  </thead>\n",
       "  <tbody>\n",
       "    <tr>\n",
       "      <th>3</th>\n",
       "      <td>4</td>\n",
       "      <td>1</td>\n",
       "      <td>A</td>\n",
       "      <td>8.18</td>\n",
       "    </tr>\n",
       "    <tr>\n",
       "      <th>5</th>\n",
       "      <td>6</td>\n",
       "      <td>1</td>\n",
       "      <td>A</td>\n",
       "      <td>7.98</td>\n",
       "    </tr>\n",
       "    <tr>\n",
       "      <th>6</th>\n",
       "      <td>7</td>\n",
       "      <td>1</td>\n",
       "      <td>A</td>\n",
       "      <td>7.70</td>\n",
       "    </tr>\n",
       "    <tr>\n",
       "      <th>7</th>\n",
       "      <td>8</td>\n",
       "      <td>1</td>\n",
       "      <td>A</td>\n",
       "      <td>7.79</td>\n",
       "    </tr>\n",
       "    <tr>\n",
       "      <th>12</th>\n",
       "      <td>13</td>\n",
       "      <td>2</td>\n",
       "      <td>A</td>\n",
       "      <td>7.94</td>\n",
       "    </tr>\n",
       "    <tr>\n",
       "      <th>...</th>\n",
       "      <td>...</td>\n",
       "      <td>...</td>\n",
       "      <td>...</td>\n",
       "      <td>...</td>\n",
       "    </tr>\n",
       "    <tr>\n",
       "      <th>191</th>\n",
       "      <td>192</td>\n",
       "      <td>20</td>\n",
       "      <td>A</td>\n",
       "      <td>8.93</td>\n",
       "    </tr>\n",
       "    <tr>\n",
       "      <th>192</th>\n",
       "      <td>193</td>\n",
       "      <td>20</td>\n",
       "      <td>A</td>\n",
       "      <td>9.01</td>\n",
       "    </tr>\n",
       "    <tr>\n",
       "      <th>195</th>\n",
       "      <td>196</td>\n",
       "      <td>20</td>\n",
       "      <td>A</td>\n",
       "      <td>8.96</td>\n",
       "    </tr>\n",
       "    <tr>\n",
       "      <th>196</th>\n",
       "      <td>197</td>\n",
       "      <td>20</td>\n",
       "      <td>A</td>\n",
       "      <td>8.95</td>\n",
       "    </tr>\n",
       "    <tr>\n",
       "      <th>199</th>\n",
       "      <td>200</td>\n",
       "      <td>20</td>\n",
       "      <td>A</td>\n",
       "      <td>9.08</td>\n",
       "    </tr>\n",
       "  </tbody>\n",
       "</table>\n",
       "<p>98 rows × 4 columns</p>\n",
       "</div>"
      ],
      "text/plain": [
       "     Paciente  Dia Especialidade  Satisfação\n",
       "3           4    1             A        8.18\n",
       "5           6    1             A        7.98\n",
       "6           7    1             A        7.70\n",
       "7           8    1             A        7.79\n",
       "12         13    2             A        7.94\n",
       "..        ...  ...           ...         ...\n",
       "191       192   20             A        8.93\n",
       "192       193   20             A        9.01\n",
       "195       196   20             A        8.96\n",
       "196       197   20             A        8.95\n",
       "199       200   20             A        9.08\n",
       "\n",
       "[98 rows x 4 columns]"
      ]
     },
     "execution_count": 128,
     "metadata": {},
     "output_type": "execute_result"
    }
   ],
   "source": [
    "satisfacao_especialidade_A = dados.query(\"Especialidade == 'A'\")\n",
    "satisfacao_especialidade_A"
   ]
  },
  {
   "cell_type": "code",
   "execution_count": 129,
   "id": "c99ebee9",
   "metadata": {},
   "outputs": [
    {
     "data": {
      "text/plain": [
       "array(['A'], dtype=object)"
      ]
     },
     "execution_count": 129,
     "metadata": {},
     "output_type": "execute_result"
    }
   ],
   "source": [
    "satisfacao_especialidade_A['Especialidade'].unique()"
   ]
  },
  {
   "cell_type": "code",
   "execution_count": 130,
   "id": "b8e8e0f6",
   "metadata": {},
   "outputs": [
    {
     "data": {
      "text/plain": [
       "Dia\n",
       "1     7.912500\n",
       "2     7.812500\n",
       "3     8.340000\n",
       "4     7.870000\n",
       "5     7.927500\n",
       "6     8.110000\n",
       "7     7.842000\n",
       "8     8.125000\n",
       "9     8.074000\n",
       "10    7.970000\n",
       "11    9.005000\n",
       "12    9.011667\n",
       "13    8.972857\n",
       "14    9.038000\n",
       "15    9.016000\n",
       "16    9.028000\n",
       "17    9.032000\n",
       "18    9.040000\n",
       "19    9.010000\n",
       "20    8.986000\n",
       "Name: Satisfação, dtype: float64"
      ]
     },
     "execution_count": 130,
     "metadata": {},
     "output_type": "execute_result"
    }
   ],
   "source": [
    "media_satisfacao_por_dia_especialidade_A = satisfacao_especialidade_A.groupby(['Dia']).mean(numeric_only=True)\n",
    "media_satisfacao_por_dia_especialidade_A = media_satisfacao_por_dia_especialidade_A['Satisfação']\n",
    "media_satisfacao_por_dia_especialidade_A"
   ]
  },
  {
   "cell_type": "code",
   "execution_count": 131,
   "id": "a38ff0ff",
   "metadata": {},
   "outputs": [
    {
     "data": {
      "text/html": [
       "<div>\n",
       "<style scoped>\n",
       "    .dataframe tbody tr th:only-of-type {\n",
       "        vertical-align: middle;\n",
       "    }\n",
       "\n",
       "    .dataframe tbody tr th {\n",
       "        vertical-align: top;\n",
       "    }\n",
       "\n",
       "    .dataframe thead th {\n",
       "        text-align: right;\n",
       "    }\n",
       "</style>\n",
       "<table border=\"1\" class=\"dataframe\">\n",
       "  <thead>\n",
       "    <tr style=\"text-align: right;\">\n",
       "      <th></th>\n",
       "      <th>Satisfação</th>\n",
       "      <th>Especialidade</th>\n",
       "    </tr>\n",
       "    <tr>\n",
       "      <th>Dia</th>\n",
       "      <th></th>\n",
       "      <th></th>\n",
       "    </tr>\n",
       "  </thead>\n",
       "  <tbody>\n",
       "    <tr>\n",
       "      <th>1</th>\n",
       "      <td>7.912500</td>\n",
       "      <td>A</td>\n",
       "    </tr>\n",
       "    <tr>\n",
       "      <th>2</th>\n",
       "      <td>7.812500</td>\n",
       "      <td>A</td>\n",
       "    </tr>\n",
       "    <tr>\n",
       "      <th>3</th>\n",
       "      <td>8.340000</td>\n",
       "      <td>A</td>\n",
       "    </tr>\n",
       "    <tr>\n",
       "      <th>4</th>\n",
       "      <td>7.870000</td>\n",
       "      <td>A</td>\n",
       "    </tr>\n",
       "    <tr>\n",
       "      <th>5</th>\n",
       "      <td>7.927500</td>\n",
       "      <td>A</td>\n",
       "    </tr>\n",
       "    <tr>\n",
       "      <th>6</th>\n",
       "      <td>8.110000</td>\n",
       "      <td>A</td>\n",
       "    </tr>\n",
       "    <tr>\n",
       "      <th>7</th>\n",
       "      <td>7.842000</td>\n",
       "      <td>A</td>\n",
       "    </tr>\n",
       "    <tr>\n",
       "      <th>8</th>\n",
       "      <td>8.125000</td>\n",
       "      <td>A</td>\n",
       "    </tr>\n",
       "    <tr>\n",
       "      <th>9</th>\n",
       "      <td>8.074000</td>\n",
       "      <td>A</td>\n",
       "    </tr>\n",
       "    <tr>\n",
       "      <th>10</th>\n",
       "      <td>7.970000</td>\n",
       "      <td>A</td>\n",
       "    </tr>\n",
       "    <tr>\n",
       "      <th>11</th>\n",
       "      <td>9.005000</td>\n",
       "      <td>A</td>\n",
       "    </tr>\n",
       "    <tr>\n",
       "      <th>12</th>\n",
       "      <td>9.011667</td>\n",
       "      <td>A</td>\n",
       "    </tr>\n",
       "    <tr>\n",
       "      <th>13</th>\n",
       "      <td>8.972857</td>\n",
       "      <td>A</td>\n",
       "    </tr>\n",
       "    <tr>\n",
       "      <th>14</th>\n",
       "      <td>9.038000</td>\n",
       "      <td>A</td>\n",
       "    </tr>\n",
       "    <tr>\n",
       "      <th>15</th>\n",
       "      <td>9.016000</td>\n",
       "      <td>A</td>\n",
       "    </tr>\n",
       "    <tr>\n",
       "      <th>16</th>\n",
       "      <td>9.028000</td>\n",
       "      <td>A</td>\n",
       "    </tr>\n",
       "    <tr>\n",
       "      <th>17</th>\n",
       "      <td>9.032000</td>\n",
       "      <td>A</td>\n",
       "    </tr>\n",
       "    <tr>\n",
       "      <th>18</th>\n",
       "      <td>9.040000</td>\n",
       "      <td>A</td>\n",
       "    </tr>\n",
       "    <tr>\n",
       "      <th>19</th>\n",
       "      <td>9.010000</td>\n",
       "      <td>A</td>\n",
       "    </tr>\n",
       "    <tr>\n",
       "      <th>20</th>\n",
       "      <td>8.986000</td>\n",
       "      <td>A</td>\n",
       "    </tr>\n",
       "  </tbody>\n",
       "</table>\n",
       "</div>"
      ],
      "text/plain": [
       "     Satisfação Especialidade\n",
       "Dia                          \n",
       "1      7.912500             A\n",
       "2      7.812500             A\n",
       "3      8.340000             A\n",
       "4      7.870000             A\n",
       "5      7.927500             A\n",
       "6      8.110000             A\n",
       "7      7.842000             A\n",
       "8      8.125000             A\n",
       "9      8.074000             A\n",
       "10     7.970000             A\n",
       "11     9.005000             A\n",
       "12     9.011667             A\n",
       "13     8.972857             A\n",
       "14     9.038000             A\n",
       "15     9.016000             A\n",
       "16     9.028000             A\n",
       "17     9.032000             A\n",
       "18     9.040000             A\n",
       "19     9.010000             A\n",
       "20     8.986000             A"
      ]
     },
     "execution_count": 131,
     "metadata": {},
     "output_type": "execute_result"
    }
   ],
   "source": [
    "media_satisfacao_por_dia_especialidade_A = pd.DataFrame(media_satisfacao_por_dia_especialidade_A)\n",
    "media_satisfacao_por_dia_especialidade_A.insert(1, 'Especialidade', 'A')\n",
    "media_satisfacao_por_dia_especialidade_A"
   ]
  },
  {
   "cell_type": "code",
   "execution_count": 139,
   "id": "d9df026d",
   "metadata": {},
   "outputs": [
    {
     "data": {
      "text/plain": [
       "<Axes: xlabel='Dia', ylabel='Satisfação'>"
      ]
     },
     "execution_count": 139,
     "metadata": {},
     "output_type": "execute_result"
    },
    {
     "data": {
      "image/png": "[encoded data removed]",
      "text/plain": [
       "<Figure size 640x480 with 1 Axes>"
      ]
     },
     "metadata": {},
     "output_type": "display_data"
    }
   ],
   "source": [
    "sns.lineplot(data=media_satisfacao_por_dia_especialidade_A, x=\"Dia\", y=\"Satisfação\", marker='o')"
   ]
  },
  {
   "cell_type": "code",
   "execution_count": 132,
   "id": "6d00598b",
   "metadata": {},
   "outputs": [
    {
     "data": {
      "text/html": [
       "<div>\n",
       "<style scoped>\n",
       "    .dataframe tbody tr th:only-of-type {\n",
       "        vertical-align: middle;\n",
       "    }\n",
       "\n",
       "    .dataframe tbody tr th {\n",
       "        vertical-align: top;\n",
       "    }\n",
       "\n",
       "    .dataframe thead th {\n",
       "        text-align: right;\n",
       "    }\n",
       "</style>\n",
       "<table border=\"1\" class=\"dataframe\">\n",
       "  <thead>\n",
       "    <tr style=\"text-align: right;\">\n",
       "      <th></th>\n",
       "      <th>Paciente</th>\n",
       "      <th>Dia</th>\n",
       "      <th>Especialidade</th>\n",
       "      <th>Satisfação</th>\n",
       "    </tr>\n",
       "  </thead>\n",
       "  <tbody>\n",
       "    <tr>\n",
       "      <th>0</th>\n",
       "      <td>1</td>\n",
       "      <td>1</td>\n",
       "      <td>D</td>\n",
       "      <td>7.49</td>\n",
       "    </tr>\n",
       "    <tr>\n",
       "      <th>1</th>\n",
       "      <td>2</td>\n",
       "      <td>1</td>\n",
       "      <td>D</td>\n",
       "      <td>7.77</td>\n",
       "    </tr>\n",
       "    <tr>\n",
       "      <th>2</th>\n",
       "      <td>3</td>\n",
       "      <td>1</td>\n",
       "      <td>D</td>\n",
       "      <td>7.82</td>\n",
       "    </tr>\n",
       "    <tr>\n",
       "      <th>4</th>\n",
       "      <td>5</td>\n",
       "      <td>1</td>\n",
       "      <td>D</td>\n",
       "      <td>8.14</td>\n",
       "    </tr>\n",
       "    <tr>\n",
       "      <th>8</th>\n",
       "      <td>9</td>\n",
       "      <td>1</td>\n",
       "      <td>D</td>\n",
       "      <td>8.30</td>\n",
       "    </tr>\n",
       "    <tr>\n",
       "      <th>...</th>\n",
       "      <td>...</td>\n",
       "      <td>...</td>\n",
       "      <td>...</td>\n",
       "      <td>...</td>\n",
       "    </tr>\n",
       "    <tr>\n",
       "      <th>190</th>\n",
       "      <td>191</td>\n",
       "      <td>20</td>\n",
       "      <td>D</td>\n",
       "      <td>8.94</td>\n",
       "    </tr>\n",
       "    <tr>\n",
       "      <th>193</th>\n",
       "      <td>194</td>\n",
       "      <td>20</td>\n",
       "      <td>D</td>\n",
       "      <td>9.04</td>\n",
       "    </tr>\n",
       "    <tr>\n",
       "      <th>194</th>\n",
       "      <td>195</td>\n",
       "      <td>20</td>\n",
       "      <td>D</td>\n",
       "      <td>9.13</td>\n",
       "    </tr>\n",
       "    <tr>\n",
       "      <th>197</th>\n",
       "      <td>198</td>\n",
       "      <td>20</td>\n",
       "      <td>D</td>\n",
       "      <td>9.16</td>\n",
       "    </tr>\n",
       "    <tr>\n",
       "      <th>198</th>\n",
       "      <td>199</td>\n",
       "      <td>20</td>\n",
       "      <td>D</td>\n",
       "      <td>8.93</td>\n",
       "    </tr>\n",
       "  </tbody>\n",
       "</table>\n",
       "<p>102 rows × 4 columns</p>\n",
       "</div>"
      ],
      "text/plain": [
       "     Paciente  Dia Especialidade  Satisfação\n",
       "0           1    1             D        7.49\n",
       "1           2    1             D        7.77\n",
       "2           3    1             D        7.82\n",
       "4           5    1             D        8.14\n",
       "8           9    1             D        8.30\n",
       "..        ...  ...           ...         ...\n",
       "190       191   20             D        8.94\n",
       "193       194   20             D        9.04\n",
       "194       195   20             D        9.13\n",
       "197       198   20             D        9.16\n",
       "198       199   20             D        8.93\n",
       "\n",
       "[102 rows x 4 columns]"
      ]
     },
     "execution_count": 132,
     "metadata": {},
     "output_type": "execute_result"
    }
   ],
   "source": [
    "satisfacao_especialidade_D = dados.query(\"Especialidade == 'D'\")\n",
    "satisfacao_especialidade_D"
   ]
  },
  {
   "cell_type": "code",
   "execution_count": 133,
   "id": "7ac51c3f",
   "metadata": {},
   "outputs": [
    {
     "data": {
      "text/plain": [
       "array(['D'], dtype=object)"
      ]
     },
     "execution_count": 133,
     "metadata": {},
     "output_type": "execute_result"
    }
   ],
   "source": [
    "satisfacao_especialidade_D['Especialidade'].unique()"
   ]
  },
  {
   "cell_type": "code",
   "execution_count": 134,
   "id": "a84b51eb",
   "metadata": {},
   "outputs": [
    {
     "data": {
      "text/plain": [
       "Dia\n",
       "1     7.871667\n",
       "2     8.021667\n",
       "3     7.878333\n",
       "4     7.876667\n",
       "5     8.025000\n",
       "6     8.100000\n",
       "7     8.068000\n",
       "8     8.072500\n",
       "9     7.904000\n",
       "10    7.945000\n",
       "11    8.993333\n",
       "12    9.020000\n",
       "13    9.010000\n",
       "14    9.050000\n",
       "15    8.964000\n",
       "16    9.044000\n",
       "17    9.006000\n",
       "18    9.036000\n",
       "19    9.003333\n",
       "20    9.040000\n",
       "Name: Satisfação, dtype: float64"
      ]
     },
     "execution_count": 134,
     "metadata": {},
     "output_type": "execute_result"
    }
   ],
   "source": [
    "media_satisfacao_por_dia_especialidade_D = satisfacao_especialidade_D.groupby(['Dia']).mean(numeric_only=True)\n",
    "media_satisfacao_por_dia_especialidade_D = media_satisfacao_por_dia_especialidade_D['Satisfação']\n",
    "media_satisfacao_por_dia_especialidade_D "
   ]
  },
  {
   "cell_type": "code",
   "execution_count": 135,
   "id": "f801f776",
   "metadata": {},
   "outputs": [
    {
     "data": {
      "text/html": [
       "<div>\n",
       "<style scoped>\n",
       "    .dataframe tbody tr th:only-of-type {\n",
       "        vertical-align: middle;\n",
       "    }\n",
       "\n",
       "    .dataframe tbody tr th {\n",
       "        vertical-align: top;\n",
       "    }\n",
       "\n",
       "    .dataframe thead th {\n",
       "        text-align: right;\n",
       "    }\n",
       "</style>\n",
       "<table border=\"1\" class=\"dataframe\">\n",
       "  <thead>\n",
       "    <tr style=\"text-align: right;\">\n",
       "      <th></th>\n",
       "      <th>Satisfação</th>\n",
       "      <th>Especialidade</th>\n",
       "    </tr>\n",
       "    <tr>\n",
       "      <th>Dia</th>\n",
       "      <th></th>\n",
       "      <th></th>\n",
       "    </tr>\n",
       "  </thead>\n",
       "  <tbody>\n",
       "    <tr>\n",
       "      <th>1</th>\n",
       "      <td>7.871667</td>\n",
       "      <td>D</td>\n",
       "    </tr>\n",
       "    <tr>\n",
       "      <th>2</th>\n",
       "      <td>8.021667</td>\n",
       "      <td>D</td>\n",
       "    </tr>\n",
       "    <tr>\n",
       "      <th>3</th>\n",
       "      <td>7.878333</td>\n",
       "      <td>D</td>\n",
       "    </tr>\n",
       "    <tr>\n",
       "      <th>4</th>\n",
       "      <td>7.876667</td>\n",
       "      <td>D</td>\n",
       "    </tr>\n",
       "    <tr>\n",
       "      <th>5</th>\n",
       "      <td>8.025000</td>\n",
       "      <td>D</td>\n",
       "    </tr>\n",
       "    <tr>\n",
       "      <th>6</th>\n",
       "      <td>8.100000</td>\n",
       "      <td>D</td>\n",
       "    </tr>\n",
       "    <tr>\n",
       "      <th>7</th>\n",
       "      <td>8.068000</td>\n",
       "      <td>D</td>\n",
       "    </tr>\n",
       "    <tr>\n",
       "      <th>8</th>\n",
       "      <td>8.072500</td>\n",
       "      <td>D</td>\n",
       "    </tr>\n",
       "    <tr>\n",
       "      <th>9</th>\n",
       "      <td>7.904000</td>\n",
       "      <td>D</td>\n",
       "    </tr>\n",
       "    <tr>\n",
       "      <th>10</th>\n",
       "      <td>7.945000</td>\n",
       "      <td>D</td>\n",
       "    </tr>\n",
       "    <tr>\n",
       "      <th>11</th>\n",
       "      <td>8.993333</td>\n",
       "      <td>D</td>\n",
       "    </tr>\n",
       "    <tr>\n",
       "      <th>12</th>\n",
       "      <td>9.020000</td>\n",
       "      <td>D</td>\n",
       "    </tr>\n",
       "    <tr>\n",
       "      <th>13</th>\n",
       "      <td>9.010000</td>\n",
       "      <td>D</td>\n",
       "    </tr>\n",
       "    <tr>\n",
       "      <th>14</th>\n",
       "      <td>9.050000</td>\n",
       "      <td>D</td>\n",
       "    </tr>\n",
       "    <tr>\n",
       "      <th>15</th>\n",
       "      <td>8.964000</td>\n",
       "      <td>D</td>\n",
       "    </tr>\n",
       "    <tr>\n",
       "      <th>16</th>\n",
       "      <td>9.044000</td>\n",
       "      <td>D</td>\n",
       "    </tr>\n",
       "    <tr>\n",
       "      <th>17</th>\n",
       "      <td>9.006000</td>\n",
       "      <td>D</td>\n",
       "    </tr>\n",
       "    <tr>\n",
       "      <th>18</th>\n",
       "      <td>9.036000</td>\n",
       "      <td>D</td>\n",
       "    </tr>\n",
       "    <tr>\n",
       "      <th>19</th>\n",
       "      <td>9.003333</td>\n",
       "      <td>D</td>\n",
       "    </tr>\n",
       "    <tr>\n",
       "      <th>20</th>\n",
       "      <td>9.040000</td>\n",
       "      <td>D</td>\n",
       "    </tr>\n",
       "  </tbody>\n",
       "</table>\n",
       "</div>"
      ],
      "text/plain": [
       "     Satisfação Especialidade\n",
       "Dia                          \n",
       "1      7.871667             D\n",
       "2      8.021667             D\n",
       "3      7.878333             D\n",
       "4      7.876667             D\n",
       "5      8.025000             D\n",
       "6      8.100000             D\n",
       "7      8.068000             D\n",
       "8      8.072500             D\n",
       "9      7.904000             D\n",
       "10     7.945000             D\n",
       "11     8.993333             D\n",
       "12     9.020000             D\n",
       "13     9.010000             D\n",
       "14     9.050000             D\n",
       "15     8.964000             D\n",
       "16     9.044000             D\n",
       "17     9.006000             D\n",
       "18     9.036000             D\n",
       "19     9.003333             D\n",
       "20     9.040000             D"
      ]
     },
     "execution_count": 135,
     "metadata": {},
     "output_type": "execute_result"
    }
   ],
   "source": [
    "media_satisfacao_por_dia_especialidade_D = pd.DataFrame(media_satisfacao_por_dia_especialidade_D)\n",
    "media_satisfacao_por_dia_especialidade_D.insert(1, 'Especialidade', 'D')\n",
    "media_satisfacao_por_dia_especialidade_D"
   ]
  },
  {
   "cell_type": "code",
   "execution_count": 140,
   "id": "b3ca6e97",
   "metadata": {},
   "outputs": [
    {
     "data": {
      "text/plain": [
       "<Axes: xlabel='Dia', ylabel='Satisfação'>"
      ]
     },
     "execution_count": 140,
     "metadata": {},
     "output_type": "execute_result"
    },
    {
     "data": {
      "image/png": "[encoded data removed]",
      "text/plain": [
       "<Figure size 640x480 with 1 Axes>"
      ]
     },
     "metadata": {},
     "output_type": "display_data"
    }
   ],
   "source": [
    "sns.lineplot(data=media_satisfacao_por_dia_especialidade_D, x=\"Dia\", y=\"Satisfação\", marker='o')"
   ]
  },
  {
   "cell_type": "code",
   "execution_count": 136,
   "id": "14092d06",
   "metadata": {},
   "outputs": [
    {
     "data": {
      "text/html": [
       "<div>\n",
       "<style scoped>\n",
       "    .dataframe tbody tr th:only-of-type {\n",
       "        vertical-align: middle;\n",
       "    }\n",
       "\n",
       "    .dataframe tbody tr th {\n",
       "        vertical-align: top;\n",
       "    }\n",
       "\n",
       "    .dataframe thead th {\n",
       "        text-align: right;\n",
       "    }\n",
       "</style>\n",
       "<table border=\"1\" class=\"dataframe\">\n",
       "  <thead>\n",
       "    <tr style=\"text-align: right;\">\n",
       "      <th></th>\n",
       "      <th>Satisfação</th>\n",
       "      <th>Especialidade</th>\n",
       "    </tr>\n",
       "    <tr>\n",
       "      <th>Dia</th>\n",
       "      <th></th>\n",
       "      <th></th>\n",
       "    </tr>\n",
       "  </thead>\n",
       "  <tbody>\n",
       "    <tr>\n",
       "      <th>1</th>\n",
       "      <td>7.912500</td>\n",
       "      <td>A</td>\n",
       "    </tr>\n",
       "    <tr>\n",
       "      <th>2</th>\n",
       "      <td>7.812500</td>\n",
       "      <td>A</td>\n",
       "    </tr>\n",
       "    <tr>\n",
       "      <th>3</th>\n",
       "      <td>8.340000</td>\n",
       "      <td>A</td>\n",
       "    </tr>\n",
       "    <tr>\n",
       "      <th>4</th>\n",
       "      <td>7.870000</td>\n",
       "      <td>A</td>\n",
       "    </tr>\n",
       "    <tr>\n",
       "      <th>5</th>\n",
       "      <td>7.927500</td>\n",
       "      <td>A</td>\n",
       "    </tr>\n",
       "    <tr>\n",
       "      <th>6</th>\n",
       "      <td>8.110000</td>\n",
       "      <td>A</td>\n",
       "    </tr>\n",
       "    <tr>\n",
       "      <th>7</th>\n",
       "      <td>7.842000</td>\n",
       "      <td>A</td>\n",
       "    </tr>\n",
       "    <tr>\n",
       "      <th>8</th>\n",
       "      <td>8.125000</td>\n",
       "      <td>A</td>\n",
       "    </tr>\n",
       "    <tr>\n",
       "      <th>9</th>\n",
       "      <td>8.074000</td>\n",
       "      <td>A</td>\n",
       "    </tr>\n",
       "    <tr>\n",
       "      <th>10</th>\n",
       "      <td>7.970000</td>\n",
       "      <td>A</td>\n",
       "    </tr>\n",
       "    <tr>\n",
       "      <th>11</th>\n",
       "      <td>9.005000</td>\n",
       "      <td>A</td>\n",
       "    </tr>\n",
       "    <tr>\n",
       "      <th>12</th>\n",
       "      <td>9.011667</td>\n",
       "      <td>A</td>\n",
       "    </tr>\n",
       "    <tr>\n",
       "      <th>13</th>\n",
       "      <td>8.972857</td>\n",
       "      <td>A</td>\n",
       "    </tr>\n",
       "    <tr>\n",
       "      <th>14</th>\n",
       "      <td>9.038000</td>\n",
       "      <td>A</td>\n",
       "    </tr>\n",
       "    <tr>\n",
       "      <th>15</th>\n",
       "      <td>9.016000</td>\n",
       "      <td>A</td>\n",
       "    </tr>\n",
       "    <tr>\n",
       "      <th>16</th>\n",
       "      <td>9.028000</td>\n",
       "      <td>A</td>\n",
       "    </tr>\n",
       "    <tr>\n",
       "      <th>17</th>\n",
       "      <td>9.032000</td>\n",
       "      <td>A</td>\n",
       "    </tr>\n",
       "    <tr>\n",
       "      <th>18</th>\n",
       "      <td>9.040000</td>\n",
       "      <td>A</td>\n",
       "    </tr>\n",
       "    <tr>\n",
       "      <th>19</th>\n",
       "      <td>9.010000</td>\n",
       "      <td>A</td>\n",
       "    </tr>\n",
       "    <tr>\n",
       "      <th>20</th>\n",
       "      <td>8.986000</td>\n",
       "      <td>A</td>\n",
       "    </tr>\n",
       "    <tr>\n",
       "      <th>1</th>\n",
       "      <td>7.871667</td>\n",
       "      <td>D</td>\n",
       "    </tr>\n",
       "    <tr>\n",
       "      <th>2</th>\n",
       "      <td>8.021667</td>\n",
       "      <td>D</td>\n",
       "    </tr>\n",
       "    <tr>\n",
       "      <th>3</th>\n",
       "      <td>7.878333</td>\n",
       "      <td>D</td>\n",
       "    </tr>\n",
       "    <tr>\n",
       "      <th>4</th>\n",
       "      <td>7.876667</td>\n",
       "      <td>D</td>\n",
       "    </tr>\n",
       "    <tr>\n",
       "      <th>5</th>\n",
       "      <td>8.025000</td>\n",
       "      <td>D</td>\n",
       "    </tr>\n",
       "    <tr>\n",
       "      <th>6</th>\n",
       "      <td>8.100000</td>\n",
       "      <td>D</td>\n",
       "    </tr>\n",
       "    <tr>\n",
       "      <th>7</th>\n",
       "      <td>8.068000</td>\n",
       "      <td>D</td>\n",
       "    </tr>\n",
       "    <tr>\n",
       "      <th>8</th>\n",
       "      <td>8.072500</td>\n",
       "      <td>D</td>\n",
       "    </tr>\n",
       "    <tr>\n",
       "      <th>9</th>\n",
       "      <td>7.904000</td>\n",
       "      <td>D</td>\n",
       "    </tr>\n",
       "    <tr>\n",
       "      <th>10</th>\n",
       "      <td>7.945000</td>\n",
       "      <td>D</td>\n",
       "    </tr>\n",
       "    <tr>\n",
       "      <th>11</th>\n",
       "      <td>8.993333</td>\n",
       "      <td>D</td>\n",
       "    </tr>\n",
       "    <tr>\n",
       "      <th>12</th>\n",
       "      <td>9.020000</td>\n",
       "      <td>D</td>\n",
       "    </tr>\n",
       "    <tr>\n",
       "      <th>13</th>\n",
       "      <td>9.010000</td>\n",
       "      <td>D</td>\n",
       "    </tr>\n",
       "    <tr>\n",
       "      <th>14</th>\n",
       "      <td>9.050000</td>\n",
       "      <td>D</td>\n",
       "    </tr>\n",
       "    <tr>\n",
       "      <th>15</th>\n",
       "      <td>8.964000</td>\n",
       "      <td>D</td>\n",
       "    </tr>\n",
       "    <tr>\n",
       "      <th>16</th>\n",
       "      <td>9.044000</td>\n",
       "      <td>D</td>\n",
       "    </tr>\n",
       "    <tr>\n",
       "      <th>17</th>\n",
       "      <td>9.006000</td>\n",
       "      <td>D</td>\n",
       "    </tr>\n",
       "    <tr>\n",
       "      <th>18</th>\n",
       "      <td>9.036000</td>\n",
       "      <td>D</td>\n",
       "    </tr>\n",
       "    <tr>\n",
       "      <th>19</th>\n",
       "      <td>9.003333</td>\n",
       "      <td>D</td>\n",
       "    </tr>\n",
       "    <tr>\n",
       "      <th>20</th>\n",
       "      <td>9.040000</td>\n",
       "      <td>D</td>\n",
       "    </tr>\n",
       "  </tbody>\n",
       "</table>\n",
       "</div>"
      ],
      "text/plain": [
       "     Satisfação Especialidade\n",
       "Dia                          \n",
       "1      7.912500             A\n",
       "2      7.812500             A\n",
       "3      8.340000             A\n",
       "4      7.870000             A\n",
       "5      7.927500             A\n",
       "6      8.110000             A\n",
       "7      7.842000             A\n",
       "8      8.125000             A\n",
       "9      8.074000             A\n",
       "10     7.970000             A\n",
       "11     9.005000             A\n",
       "12     9.011667             A\n",
       "13     8.972857             A\n",
       "14     9.038000             A\n",
       "15     9.016000             A\n",
       "16     9.028000             A\n",
       "17     9.032000             A\n",
       "18     9.040000             A\n",
       "19     9.010000             A\n",
       "20     8.986000             A\n",
       "1      7.871667             D\n",
       "2      8.021667             D\n",
       "3      7.878333             D\n",
       "4      7.876667             D\n",
       "5      8.025000             D\n",
       "6      8.100000             D\n",
       "7      8.068000             D\n",
       "8      8.072500             D\n",
       "9      7.904000             D\n",
       "10     7.945000             D\n",
       "11     8.993333             D\n",
       "12     9.020000             D\n",
       "13     9.010000             D\n",
       "14     9.050000             D\n",
       "15     8.964000             D\n",
       "16     9.044000             D\n",
       "17     9.006000             D\n",
       "18     9.036000             D\n",
       "19     9.003333             D\n",
       "20     9.040000             D"
      ]
     },
     "execution_count": 136,
     "metadata": {},
     "output_type": "execute_result"
    }
   ],
   "source": [
    "medias = pd.concat([media_satisfacao_por_dia_especialidade_A, media_satisfacao_por_dia_especialidade_D])\n",
    "medias"
   ]
  },
  {
   "cell_type": "code",
   "execution_count": 137,
   "id": "91c84a24",
   "metadata": {},
   "outputs": [
    {
     "data": {
      "text/plain": [
       "<Axes: xlabel='Dia', ylabel='Satisfação'>"
      ]
     },
     "execution_count": 137,
     "metadata": {},
     "output_type": "execute_result"
    },
    {
     "data": {
      "image/png": "[encoded data removed]",
      "text/plain": [
       "<Figure size 640x480 with 1 Axes>"
      ]
     },
     "metadata": {},
     "output_type": "display_data"
    }
   ],
   "source": [
    "sns.lineplot(data=medias, x=\"Dia\", y=\"Satisfação\", hue='Especialidade', marker='o')"
   ]
  },
  {
   "cell_type": "markdown",
   "id": "02c860db",
   "metadata": {},
   "source": [
    "## Resolução Item 10\n",
    "Para finalizar, diga se a amostra estava equilibrada entre as especialidades. Será que houve mais pacientes de dermatologia do que de alergologia na amostra? Faça o gráfico de frequência apropriado para dizer."
   ]
  },
  {
   "cell_type": "code",
   "execution_count": 142,
   "id": "7d107795",
   "metadata": {},
   "outputs": [
    {
     "data": {
      "text/html": [
       "<div>\n",
       "<style scoped>\n",
       "    .dataframe tbody tr th:only-of-type {\n",
       "        vertical-align: middle;\n",
       "    }\n",
       "\n",
       "    .dataframe tbody tr th {\n",
       "        vertical-align: top;\n",
       "    }\n",
       "\n",
       "    .dataframe thead th {\n",
       "        text-align: right;\n",
       "    }\n",
       "</style>\n",
       "<table border=\"1\" class=\"dataframe\">\n",
       "  <thead>\n",
       "    <tr style=\"text-align: right;\">\n",
       "      <th></th>\n",
       "      <th>Paciente</th>\n",
       "      <th>Dia</th>\n",
       "      <th>Satisfação</th>\n",
       "    </tr>\n",
       "    <tr>\n",
       "      <th>Especialidade</th>\n",
       "      <th></th>\n",
       "      <th></th>\n",
       "      <th></th>\n",
       "    </tr>\n",
       "  </thead>\n",
       "  <tbody>\n",
       "    <tr>\n",
       "      <th>A</th>\n",
       "      <td>98</td>\n",
       "      <td>98</td>\n",
       "      <td>98</td>\n",
       "    </tr>\n",
       "    <tr>\n",
       "      <th>D</th>\n",
       "      <td>102</td>\n",
       "      <td>102</td>\n",
       "      <td>102</td>\n",
       "    </tr>\n",
       "  </tbody>\n",
       "</table>\n",
       "</div>"
      ],
      "text/plain": [
       "               Paciente  Dia  Satisfação\n",
       "Especialidade                           \n",
       "A                    98   98          98\n",
       "D                   102  102         102"
      ]
     },
     "execution_count": 142,
     "metadata": {},
     "output_type": "execute_result"
    }
   ],
   "source": [
    "dados_por_especialidade = dados.groupby('Especialidade').count()\n",
    "dados_por_especialidade"
   ]
  },
  {
   "cell_type": "code",
   "execution_count": 145,
   "id": "d52909e0",
   "metadata": {},
   "outputs": [
    {
     "data": {
      "text/plain": [
       "<Axes: xlabel='Especialidade'>"
      ]
     },
     "execution_count": 145,
     "metadata": {},
     "output_type": "execute_result"
    },
    {
     "data": {
      "image/png": "[encoded data removed]",
      "text/plain": [
       "<Figure size 640x480 with 1 Axes>"
      ]
     },
     "metadata": {},
     "output_type": "display_data"
    }
   ],
   "source": [
    "sns.barplot(dados_por_especialidade.T)"
   ]
  },
  {
   "cell_type": "code",
   "execution_count": null,
   "id": "a06292dd",
   "metadata": {},
   "outputs": [],
   "source": []
  }
 ],
 "metadata": {
  "kernelspec": {
   "display_name": "Python 3 (ipykernel)",
   "language": "python",
   "name": "python3"
  },
  "language_info": {
   "codemirror_mode": {
    "name": "ipython",
    "version": 3
   },
   "file_extension": ".py",
   "mimetype": "text/x-python",
   "name": "python",
   "nbconvert_exporter": "python",
   "pygments_lexer": "ipython3",
   "version": "3.11.4"
  }
 },
 "nbformat": 4,
 "nbformat_minor": 5
}
